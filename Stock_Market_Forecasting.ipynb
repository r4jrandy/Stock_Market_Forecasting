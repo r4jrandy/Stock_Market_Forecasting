{
  "nbformat": 4,
  "nbformat_minor": 0,
  "metadata": {
    "kernelspec": {
      "display_name": "Python 3",
      "language": "python",
      "name": "python3"
    },
    "language_info": {
      "codemirror_mode": {
        "name": "ipython",
        "version": 3
      },
      "file_extension": ".py",
      "mimetype": "text/x-python",
      "name": "python",
      "nbconvert_exporter": "python",
      "pygments_lexer": "ipython3",
      "version": "3.6.9"
    },
    "colab": {
      "name": "Stock_Market_Forecasting.ipynb",
      "provenance": []
    },
    "accelerator": "GPU"
  },
  "cells": [
    {
      "cell_type": "markdown",
      "metadata": {
        "id": "taLz55dUXE_U"
      },
      "source": [
        "### Stock Market Prediction And Forecasting Using Stacked LSTM"
      ]
    },
    {
      "cell_type": "code",
      "metadata": {
        "id": "GyyCr3d8XE_d"
      },
      "source": [
        "### Data Collection\n",
        "import pandas_datareader as pdr\n",
        "import pandas as pd\n",
        "import numpy as np\n",
        "df=pd.read_csv('Key.csv')\n",
        "key=Key['key'][0]"
      ],
      "execution_count": 1,
      "outputs": []
    },
    {
      "cell_type": "code",
      "metadata": {
        "id": "KyZVrzrYXE_e"
      },
      "source": [
        "df = pdr.get_data_tiingo('AAPL', api_key=key)\r\n",
        "df.to_csv('AAPL.csv')"
      ],
      "execution_count": 3,
      "outputs": []
    },
    {
      "cell_type": "code",
      "metadata": {
        "colab": {
          "base_uri": "https://localhost:8080/",
          "height": 206
        },
        "id": "oLl8W-HcXE_f",
        "outputId": "8ac4ec67-8c0b-4b83-8690-d52ae31f791b"
      },
      "source": [
        "df=pd.read_csv('AAPL.csv')\r\n",
        "df.head()"
      ],
      "execution_count": 4,
      "outputs": [
        {
          "output_type": "execute_result",
          "data": {
            "text/html": [
              "<div>\n",
              "<style scoped>\n",
              "    .dataframe tbody tr th:only-of-type {\n",
              "        vertical-align: middle;\n",
              "    }\n",
              "\n",
              "    .dataframe tbody tr th {\n",
              "        vertical-align: top;\n",
              "    }\n",
              "\n",
              "    .dataframe thead th {\n",
              "        text-align: right;\n",
              "    }\n",
              "</style>\n",
              "<table border=\"1\" class=\"dataframe\">\n",
              "  <thead>\n",
              "    <tr style=\"text-align: right;\">\n",
              "      <th></th>\n",
              "      <th>symbol</th>\n",
              "      <th>date</th>\n",
              "      <th>close</th>\n",
              "      <th>high</th>\n",
              "      <th>low</th>\n",
              "      <th>open</th>\n",
              "      <th>volume</th>\n",
              "      <th>adjClose</th>\n",
              "      <th>adjHigh</th>\n",
              "      <th>adjLow</th>\n",
              "      <th>adjOpen</th>\n",
              "      <th>adjVolume</th>\n",
              "      <th>divCash</th>\n",
              "      <th>splitFactor</th>\n",
              "    </tr>\n",
              "  </thead>\n",
              "  <tbody>\n",
              "    <tr>\n",
              "      <th>0</th>\n",
              "      <td>AAPL</td>\n",
              "      <td>2016-02-16 00:00:00+00:00</td>\n",
              "      <td>96.64</td>\n",
              "      <td>96.8500</td>\n",
              "      <td>94.610</td>\n",
              "      <td>95.02</td>\n",
              "      <td>49057916</td>\n",
              "      <td>22.467518</td>\n",
              "      <td>22.516340</td>\n",
              "      <td>21.995570</td>\n",
              "      <td>22.090890</td>\n",
              "      <td>196231664</td>\n",
              "      <td>0.0</td>\n",
              "      <td>1.0</td>\n",
              "    </tr>\n",
              "    <tr>\n",
              "      <th>1</th>\n",
              "      <td>AAPL</td>\n",
              "      <td>2016-02-17 00:00:00+00:00</td>\n",
              "      <td>98.12</td>\n",
              "      <td>98.2100</td>\n",
              "      <td>96.150</td>\n",
              "      <td>96.67</td>\n",
              "      <td>44863243</td>\n",
              "      <td>22.811599</td>\n",
              "      <td>22.832522</td>\n",
              "      <td>22.353600</td>\n",
              "      <td>22.474493</td>\n",
              "      <td>179452972</td>\n",
              "      <td>0.0</td>\n",
              "      <td>1.0</td>\n",
              "    </tr>\n",
              "    <tr>\n",
              "      <th>2</th>\n",
              "      <td>AAPL</td>\n",
              "      <td>2016-02-18 00:00:00+00:00</td>\n",
              "      <td>96.26</td>\n",
              "      <td>98.8900</td>\n",
              "      <td>96.091</td>\n",
              "      <td>98.84</td>\n",
              "      <td>39020983</td>\n",
              "      <td>22.379173</td>\n",
              "      <td>22.990613</td>\n",
              "      <td>22.339883</td>\n",
              "      <td>22.978989</td>\n",
              "      <td>156083932</td>\n",
              "      <td>0.0</td>\n",
              "      <td>1.0</td>\n",
              "    </tr>\n",
              "    <tr>\n",
              "      <th>3</th>\n",
              "      <td>AAPL</td>\n",
              "      <td>2016-02-19 00:00:00+00:00</td>\n",
              "      <td>96.04</td>\n",
              "      <td>96.7599</td>\n",
              "      <td>95.800</td>\n",
              "      <td>96.00</td>\n",
              "      <td>35374173</td>\n",
              "      <td>22.328026</td>\n",
              "      <td>22.495393</td>\n",
              "      <td>22.272229</td>\n",
              "      <td>22.318727</td>\n",
              "      <td>141496692</td>\n",
              "      <td>0.0</td>\n",
              "      <td>1.0</td>\n",
              "    </tr>\n",
              "    <tr>\n",
              "      <th>4</th>\n",
              "      <td>AAPL</td>\n",
              "      <td>2016-02-22 00:00:00+00:00</td>\n",
              "      <td>96.88</td>\n",
              "      <td>96.9000</td>\n",
              "      <td>95.920</td>\n",
              "      <td>96.31</td>\n",
              "      <td>34280758</td>\n",
              "      <td>22.523315</td>\n",
              "      <td>22.527965</td>\n",
              "      <td>22.300128</td>\n",
              "      <td>22.390798</td>\n",
              "      <td>137123032</td>\n",
              "      <td>0.0</td>\n",
              "      <td>1.0</td>\n",
              "    </tr>\n",
              "  </tbody>\n",
              "</table>\n",
              "</div>"
            ],
            "text/plain": [
              "  symbol                       date  close  ...  adjVolume  divCash  splitFactor\n",
              "0   AAPL  2016-02-16 00:00:00+00:00  96.64  ...  196231664      0.0          1.0\n",
              "1   AAPL  2016-02-17 00:00:00+00:00  98.12  ...  179452972      0.0          1.0\n",
              "2   AAPL  2016-02-18 00:00:00+00:00  96.26  ...  156083932      0.0          1.0\n",
              "3   AAPL  2016-02-19 00:00:00+00:00  96.04  ...  141496692      0.0          1.0\n",
              "4   AAPL  2016-02-22 00:00:00+00:00  96.88  ...  137123032      0.0          1.0\n",
              "\n",
              "[5 rows x 14 columns]"
            ]
          },
          "metadata": {
            "tags": []
          },
          "execution_count": 4
        }
      ]
    },
    {
      "cell_type": "code",
      "metadata": {
        "colab": {
          "base_uri": "https://localhost:8080/"
        },
        "id": "G9ETMts0XE_n",
        "outputId": "3945eeef-af37-48ed-976d-0de897c02a15"
      },
      "source": [
        "df1=df.reset_index()['close']\r\n",
        "df1.head()"
      ],
      "execution_count": 5,
      "outputs": [
        {
          "output_type": "execute_result",
          "data": {
            "text/plain": [
              "0    96.64\n",
              "1    98.12\n",
              "2    96.26\n",
              "3    96.04\n",
              "4    96.88\n",
              "Name: close, dtype: float64"
            ]
          },
          "metadata": {
            "tags": []
          },
          "execution_count": 5
        }
      ]
    },
    {
      "cell_type": "code",
      "metadata": {
        "colab": {
          "base_uri": "https://localhost:8080/",
          "height": 283
        },
        "id": "72ctU4HaXE_p",
        "outputId": "4d9d27a7-5d7e-4c67-b0b5-c685c682c523"
      },
      "source": [
        "import matplotlib.pyplot as plt\n",
        "plt.plot(df1)"
      ],
      "execution_count": 6,
      "outputs": [
        {
          "output_type": "execute_result",
          "data": {
            "text/plain": [
              "[<matplotlib.lines.Line2D at 0x7fc9d88680f0>]"
            ]
          },
          "metadata": {
            "tags": []
          },
          "execution_count": 6
        },
        {
          "output_type": "display_data",
          "data": {
            "image/png": "[encoded data removed]",
            "text/plain": [
              "<Figure size 432x288 with 1 Axes>"
            ]
          },
          "metadata": {
            "tags": [],
            "needs_background": "light"
          }
        }
      ]
    },
    {
      "cell_type": "code",
      "metadata": {
        "colab": {
          "base_uri": "https://localhost:8080/"
        },
        "id": "avcettxmXE_q",
        "outputId": "bb823d04-f8b5-44d9-f4a4-9d070306bdef"
      },
      "source": [
        "#Scaling the data for the LSTM\n",
        "from sklearn.preprocessing import MinMaxScaler\n",
        "scaler=MinMaxScaler(feature_range=(0,1))\n",
        "df1=scaler.fit_transform(np.array(df1).reshape(-1,1))\n",
        "df1.shape"
      ],
      "execution_count": 7,
      "outputs": [
        {
          "output_type": "execute_result",
          "data": {
            "text/plain": [
              "(1259, 1)"
            ]
          },
          "metadata": {
            "tags": []
          },
          "execution_count": 7
        }
      ]
    },
    {
      "cell_type": "code",
      "metadata": {
        "colab": {
          "base_uri": "https://localhost:8080/"
        },
        "id": "o1vlSUfQXE_q",
        "outputId": "0674cf2a-a1b3-4d29-8d46-47c2f5a71c9e"
      },
      "source": [
        "print(df1)"
      ],
      "execution_count": 8,
      "outputs": [
        {
          "output_type": "stream",
          "text": [
            "[[0.01515334]\n",
            " [0.01871317]\n",
            " [0.01423933]\n",
            " ...\n",
            " [0.10835839]\n",
            " [0.10773301]\n",
            " [0.10831028]]\n"
          ],
          "name": "stdout"
        }
      ]
    },
    {
      "cell_type": "code",
      "metadata": {
        "id": "yQ2RoamNXE_r"
      },
      "source": [
        "#Splitting dataset into train and test split\n",
        "training_size=int(len(df1)*0.65)\n",
        "test_size=len(df1)-training_size\n",
        "train_data,test_data=df1[0:training_size,:],df1[training_size:len(df1),:1]"
      ],
      "execution_count": 9,
      "outputs": []
    },
    {
      "cell_type": "code",
      "metadata": {
        "colab": {
          "base_uri": "https://localhost:8080/"
        },
        "id": "Z9nhOWelXE_s",
        "outputId": "765058c7-ae3e-46ca-d613-c84ad5d479eb"
      },
      "source": [
        "train_data.shape,test_data.shape"
      ],
      "execution_count": 10,
      "outputs": [
        {
          "output_type": "execute_result",
          "data": {
            "text/plain": [
              "((818, 1), (441, 1))"
            ]
          },
          "metadata": {
            "tags": []
          },
          "execution_count": 10
        }
      ]
    },
    {
      "cell_type": "code",
      "metadata": {
        "id": "jPFg0hkaXE_s"
      },
      "source": [
        "#Convert an array of values into a dataset matrix\n",
        "#Time steps will be taking as 100\n",
        "def create_dataset(dataset, time_step=1):\n",
        "\tdataX, dataY = [], []\n",
        "\tfor i in range(len(dataset)-time_step-1):\n",
        "\t\ta = dataset[i:(i+time_step), 0]    \n",
        "\t\tdataX.append(a) #This will be 100 dimension\n",
        "\t\tdataY.append(dataset[i + time_step, 0]) #This will be single dimension\n",
        "\treturn np.array(dataX), np.array(dataY)"
      ],
      "execution_count": 11,
      "outputs": []
    },
    {
      "cell_type": "code",
      "metadata": {
        "id": "9h8O8hzmXE_s"
      },
      "source": [
        "# reshape into X=t,t+1,t+2,t+3 and Y=t+4\n",
        "time_step = 100\n",
        "X_train, y_train = create_dataset(train_data, time_step)\n",
        "X_test, ytest = create_dataset(test_data, time_step)"
      ],
      "execution_count": 12,
      "outputs": []
    },
    {
      "cell_type": "code",
      "metadata": {
        "colab": {
          "base_uri": "https://localhost:8080/"
        },
        "id": "ngfqxfuOXE_t",
        "outputId": "1a8d31fd-4f88-4ea8-c0ec-a2bb255c32fd"
      },
      "source": [
        "X_train.shape,y_train.shape,X_test.shape,ytest.shape"
      ],
      "execution_count": 13,
      "outputs": [
        {
          "output_type": "execute_result",
          "data": {
            "text/plain": [
              "((717, 100), (717,), (340, 100), (340,))"
            ]
          },
          "metadata": {
            "tags": []
          },
          "execution_count": 13
        }
      ]
    },
    {
      "cell_type": "code",
      "metadata": {
        "colab": {
          "base_uri": "https://localhost:8080/"
        },
        "id": "ahrJB63LXE_u",
        "outputId": "b182fcb3-e1c4-44a2-fd33-1ecdfc952a08"
      },
      "source": [
        "#Reshape input to be [samples, time steps, features] which is required for LSTM\n",
        "X_train =X_train.reshape(X_train.shape[0],X_train.shape[1] , 1)\n",
        "X_test = X_test.reshape(X_test.shape[0],X_test.shape[1] , 1)\n",
        "X_train.shape,X_test.shape"
      ],
      "execution_count": 14,
      "outputs": [
        {
          "output_type": "execute_result",
          "data": {
            "text/plain": [
              "((717, 100, 1), (340, 100, 1))"
            ]
          },
          "metadata": {
            "tags": []
          },
          "execution_count": 14
        }
      ]
    },
    {
      "cell_type": "code",
      "metadata": {
        "id": "uYKhWmBpXE_u"
      },
      "source": [
        "### Create the Stacked LSTM model\n",
        "from tensorflow.keras.models import Sequential\n",
        "from tensorflow.keras.layers import Dense\n",
        "from tensorflow.keras.layers import LSTM"
      ],
      "execution_count": 15,
      "outputs": []
    },
    {
      "cell_type": "code",
      "metadata": {
        "id": "DIng421OXE_u"
      },
      "source": [
        "model=Sequential()\n",
        "model.add(LSTM(50,return_sequences=True,input_shape=(100,1)))\n",
        "model.add(LSTM(50,return_sequences=True))\n",
        "model.add(LSTM(50))\n",
        "model.add(Dense(1))\n",
        "model.compile(loss='mean_squared_error',optimizer='adam')"
      ],
      "execution_count": 16,
      "outputs": []
    },
    {
      "cell_type": "code",
      "metadata": {
        "colab": {
          "base_uri": "https://localhost:8080/"
        },
        "id": "ZPwEL4E-XE_v",
        "outputId": "9ed0cbbb-9905-4cb2-d5ce-96d9f8e348ae"
      },
      "source": [
        "model.summary()"
      ],
      "execution_count": 17,
      "outputs": [
        {
          "output_type": "stream",
          "text": [
            "Model: \"sequential\"\n",
            "_________________________________________________________________\n",
            "Layer (type)                 Output Shape              Param #   \n",
            "=================================================================\n",
            "lstm (LSTM)                  (None, 100, 50)           10400     \n",
            "_________________________________________________________________\n",
            "lstm_1 (LSTM)                (None, 100, 50)           20200     \n",
            "_________________________________________________________________\n",
            "lstm_2 (LSTM)                (None, 50)                20200     \n",
            "_________________________________________________________________\n",
            "dense (Dense)                (None, 1)                 51        \n",
            "=================================================================\n",
            "Total params: 50,851\n",
            "Trainable params: 50,851\n",
            "Non-trainable params: 0\n",
            "_________________________________________________________________\n"
          ],
          "name": "stdout"
        }
      ]
    },
    {
      "cell_type": "code",
      "metadata": {
        "colab": {
          "base_uri": "https://localhost:8080/"
        },
        "id": "qSYhIpk7XE_x",
        "outputId": "f8e68d7e-04f2-42f1-b4d2-48fb0ef7608f"
      },
      "source": [
        "model.fit(X_train,y_train,validation_data=(X_test,ytest),epochs=100,batch_size=64,verbose=1)"
      ],
      "execution_count": 18,
      "outputs": [
        {
          "output_type": "stream",
          "text": [
            "Epoch 1/100\n",
            "12/12 [==============================] - 11s 116ms/step - loss: 0.0172 - val_loss: 0.0511\n",
            "Epoch 2/100\n",
            "12/12 [==============================] - 0s 35ms/step - loss: 0.0031 - val_loss: 0.0245\n",
            "Epoch 3/100\n",
            "12/12 [==============================] - 0s 20ms/step - loss: 0.0018 - val_loss: 0.0261\n",
            "Epoch 4/100\n",
            "12/12 [==============================] - 0s 22ms/step - loss: 5.1840e-04 - val_loss: 0.0206\n",
            "Epoch 5/100\n",
            "12/12 [==============================] - 0s 24ms/step - loss: 4.9210e-04 - val_loss: 0.0200\n",
            "Epoch 6/100\n",
            "12/12 [==============================] - 0s 24ms/step - loss: 4.3039e-04 - val_loss: 0.0194\n",
            "Epoch 7/100\n",
            "12/12 [==============================] - 0s 20ms/step - loss: 3.9803e-04 - val_loss: 0.0190\n",
            "Epoch 8/100\n",
            "12/12 [==============================] - 0s 19ms/step - loss: 3.2656e-04 - val_loss: 0.0187\n",
            "Epoch 9/100\n",
            "12/12 [==============================] - 0s 22ms/step - loss: 3.3541e-04 - val_loss: 0.0184\n",
            "Epoch 10/100\n",
            "12/12 [==============================] - 0s 24ms/step - loss: 3.5151e-04 - val_loss: 0.0179\n",
            "Epoch 11/100\n",
            "12/12 [==============================] - 0s 23ms/step - loss: 3.1764e-04 - val_loss: 0.0175\n",
            "Epoch 12/100\n",
            "12/12 [==============================] - 0s 20ms/step - loss: 3.0371e-04 - val_loss: 0.0171\n",
            "Epoch 13/100\n",
            "12/12 [==============================] - 0s 21ms/step - loss: 2.8084e-04 - val_loss: 0.0166\n",
            "Epoch 14/100\n",
            "12/12 [==============================] - 0s 24ms/step - loss: 2.5048e-04 - val_loss: 0.0162\n",
            "Epoch 15/100\n",
            "12/12 [==============================] - 0s 23ms/step - loss: 2.5697e-04 - val_loss: 0.0156\n",
            "Epoch 16/100\n",
            "12/12 [==============================] - 0s 20ms/step - loss: 2.3643e-04 - val_loss: 0.0154\n",
            "Epoch 17/100\n",
            "12/12 [==============================] - 0s 20ms/step - loss: 2.1221e-04 - val_loss: 0.0152\n",
            "Epoch 18/100\n",
            "12/12 [==============================] - 0s 20ms/step - loss: 2.4091e-04 - val_loss: 0.0172\n",
            "Epoch 19/100\n",
            "12/12 [==============================] - 0s 20ms/step - loss: 2.3570e-04 - val_loss: 0.0155\n",
            "Epoch 20/100\n",
            "12/12 [==============================] - 0s 20ms/step - loss: 2.7135e-04 - val_loss: 0.0173\n",
            "Epoch 21/100\n",
            "12/12 [==============================] - 0s 20ms/step - loss: 2.0289e-04 - val_loss: 0.0167\n",
            "Epoch 22/100\n",
            "12/12 [==============================] - 0s 20ms/step - loss: 2.0563e-04 - val_loss: 0.0188\n",
            "Epoch 23/100\n",
            "12/12 [==============================] - 0s 20ms/step - loss: 2.2277e-04 - val_loss: 0.0174\n",
            "Epoch 24/100\n",
            "12/12 [==============================] - 0s 20ms/step - loss: 2.4747e-04 - val_loss: 0.0214\n",
            "Epoch 25/100\n",
            "12/12 [==============================] - 0s 20ms/step - loss: 2.3554e-04 - val_loss: 0.0169\n",
            "Epoch 26/100\n",
            "12/12 [==============================] - 0s 20ms/step - loss: 2.1194e-04 - val_loss: 0.0187\n",
            "Epoch 27/100\n",
            "12/12 [==============================] - 0s 20ms/step - loss: 1.9631e-04 - val_loss: 0.0178\n",
            "Epoch 28/100\n",
            "12/12 [==============================] - 0s 20ms/step - loss: 2.2701e-04 - val_loss: 0.0193\n",
            "Epoch 29/100\n",
            "12/12 [==============================] - 0s 20ms/step - loss: 2.2810e-04 - val_loss: 0.0183\n",
            "Epoch 30/100\n",
            "12/12 [==============================] - 0s 20ms/step - loss: 1.8321e-04 - val_loss: 0.0208\n",
            "Epoch 31/100\n",
            "12/12 [==============================] - 0s 20ms/step - loss: 1.8980e-04 - val_loss: 0.0214\n",
            "Epoch 32/100\n",
            "12/12 [==============================] - 0s 20ms/step - loss: 2.0886e-04 - val_loss: 0.0196\n",
            "Epoch 33/100\n",
            "12/12 [==============================] - 0s 20ms/step - loss: 1.9500e-04 - val_loss: 0.0208\n",
            "Epoch 34/100\n",
            "12/12 [==============================] - 0s 21ms/step - loss: 1.8776e-04 - val_loss: 0.0198\n",
            "Epoch 35/100\n",
            "12/12 [==============================] - 0s 20ms/step - loss: 2.0007e-04 - val_loss: 0.0250\n",
            "Epoch 36/100\n",
            "12/12 [==============================] - 0s 20ms/step - loss: 1.9321e-04 - val_loss: 0.0211\n",
            "Epoch 37/100\n",
            "12/12 [==============================] - 0s 20ms/step - loss: 1.7671e-04 - val_loss: 0.0218\n",
            "Epoch 38/100\n",
            "12/12 [==============================] - 0s 20ms/step - loss: 1.9964e-04 - val_loss: 0.0194\n",
            "Epoch 39/100\n",
            "12/12 [==============================] - 0s 20ms/step - loss: 1.7584e-04 - val_loss: 0.0233\n",
            "Epoch 40/100\n",
            "12/12 [==============================] - 0s 20ms/step - loss: 1.7780e-04 - val_loss: 0.0286\n",
            "Epoch 41/100\n",
            "12/12 [==============================] - 0s 20ms/step - loss: 1.8500e-04 - val_loss: 0.0190\n",
            "Epoch 42/100\n",
            "12/12 [==============================] - 0s 20ms/step - loss: 1.9631e-04 - val_loss: 0.0204\n",
            "Epoch 43/100\n",
            "12/12 [==============================] - 0s 21ms/step - loss: 1.7072e-04 - val_loss: 0.0239\n",
            "Epoch 44/100\n",
            "12/12 [==============================] - 0s 20ms/step - loss: 1.8482e-04 - val_loss: 0.0235\n",
            "Epoch 45/100\n",
            "12/12 [==============================] - 0s 20ms/step - loss: 1.7625e-04 - val_loss: 0.0237\n",
            "Epoch 46/100\n",
            "12/12 [==============================] - 0s 20ms/step - loss: 2.0302e-04 - val_loss: 0.0199\n",
            "Epoch 47/100\n",
            "12/12 [==============================] - 0s 21ms/step - loss: 1.8135e-04 - val_loss: 0.0233\n",
            "Epoch 48/100\n",
            "12/12 [==============================] - 0s 20ms/step - loss: 1.8002e-04 - val_loss: 0.0202\n",
            "Epoch 49/100\n",
            "12/12 [==============================] - 0s 20ms/step - loss: 1.8222e-04 - val_loss: 0.0198\n",
            "Epoch 50/100\n",
            "12/12 [==============================] - 0s 20ms/step - loss: 1.5492e-04 - val_loss: 0.0183\n",
            "Epoch 51/100\n",
            "12/12 [==============================] - 0s 20ms/step - loss: 1.8528e-04 - val_loss: 0.0236\n",
            "Epoch 52/100\n",
            "12/12 [==============================] - 0s 20ms/step - loss: 2.1041e-04 - val_loss: 0.0201\n",
            "Epoch 53/100\n",
            "12/12 [==============================] - 0s 20ms/step - loss: 1.6760e-04 - val_loss: 0.0211\n",
            "Epoch 54/100\n",
            "12/12 [==============================] - 0s 20ms/step - loss: 1.8485e-04 - val_loss: 0.0194\n",
            "Epoch 55/100\n",
            "12/12 [==============================] - 0s 21ms/step - loss: 1.7794e-04 - val_loss: 0.0222\n",
            "Epoch 56/100\n",
            "12/12 [==============================] - 0s 20ms/step - loss: 1.7256e-04 - val_loss: 0.0197\n",
            "Epoch 57/100\n",
            "12/12 [==============================] - 0s 20ms/step - loss: 1.7132e-04 - val_loss: 0.0198\n",
            "Epoch 58/100\n",
            "12/12 [==============================] - 0s 20ms/step - loss: 1.5106e-04 - val_loss: 0.0181\n",
            "Epoch 59/100\n",
            "12/12 [==============================] - 0s 20ms/step - loss: 1.7756e-04 - val_loss: 0.0259\n",
            "Epoch 60/100\n",
            "12/12 [==============================] - 0s 20ms/step - loss: 1.9705e-04 - val_loss: 0.0178\n",
            "Epoch 61/100\n",
            "12/12 [==============================] - 0s 20ms/step - loss: 1.5329e-04 - val_loss: 0.0253\n",
            "Epoch 62/100\n",
            "12/12 [==============================] - 0s 20ms/step - loss: 2.1289e-04 - val_loss: 0.0177\n",
            "Epoch 63/100\n",
            "12/12 [==============================] - 0s 20ms/step - loss: 1.8686e-04 - val_loss: 0.0234\n",
            "Epoch 64/100\n",
            "12/12 [==============================] - 0s 20ms/step - loss: 1.8707e-04 - val_loss: 0.0220\n",
            "Epoch 65/100\n",
            "12/12 [==============================] - 0s 31ms/step - loss: 1.6465e-04 - val_loss: 0.0175\n",
            "Epoch 66/100\n",
            "12/12 [==============================] - 0s 20ms/step - loss: 1.8709e-04 - val_loss: 0.0208\n",
            "Epoch 67/100\n",
            "12/12 [==============================] - 0s 20ms/step - loss: 1.5525e-04 - val_loss: 0.0181\n",
            "Epoch 68/100\n",
            "12/12 [==============================] - 0s 21ms/step - loss: 1.4566e-04 - val_loss: 0.0179\n",
            "Epoch 69/100\n",
            "12/12 [==============================] - 0s 20ms/step - loss: 1.7288e-04 - val_loss: 0.0157\n",
            "Epoch 70/100\n",
            "12/12 [==============================] - 0s 20ms/step - loss: 1.5338e-04 - val_loss: 0.0201\n",
            "Epoch 71/100\n",
            "12/12 [==============================] - 0s 20ms/step - loss: 1.6824e-04 - val_loss: 0.0159\n",
            "Epoch 72/100\n",
            "12/12 [==============================] - 0s 20ms/step - loss: 1.4697e-04 - val_loss: 0.0156\n",
            "Epoch 73/100\n",
            "12/12 [==============================] - 0s 20ms/step - loss: 1.4041e-04 - val_loss: 0.0127\n",
            "Epoch 74/100\n",
            "12/12 [==============================] - 0s 20ms/step - loss: 1.4756e-04 - val_loss: 0.0134\n",
            "Epoch 75/100\n",
            "12/12 [==============================] - 0s 20ms/step - loss: 1.5961e-04 - val_loss: 0.0138\n",
            "Epoch 76/100\n",
            "12/12 [==============================] - 0s 20ms/step - loss: 1.4128e-04 - val_loss: 0.0148\n",
            "Epoch 77/100\n",
            "12/12 [==============================] - 0s 20ms/step - loss: 1.4877e-04 - val_loss: 0.0134\n",
            "Epoch 78/100\n",
            "12/12 [==============================] - 0s 20ms/step - loss: 1.4109e-04 - val_loss: 0.0126\n",
            "Epoch 79/100\n",
            "12/12 [==============================] - 0s 20ms/step - loss: 1.4444e-04 - val_loss: 0.0137\n",
            "Epoch 80/100\n",
            "12/12 [==============================] - 0s 21ms/step - loss: 1.4190e-04 - val_loss: 0.0120\n",
            "Epoch 81/100\n",
            "12/12 [==============================] - 0s 20ms/step - loss: 1.4499e-04 - val_loss: 0.0130\n",
            "Epoch 82/100\n",
            "12/12 [==============================] - 0s 20ms/step - loss: 1.4828e-04 - val_loss: 0.0115\n",
            "Epoch 83/100\n",
            "12/12 [==============================] - 0s 20ms/step - loss: 1.3354e-04 - val_loss: 0.0125\n",
            "Epoch 84/100\n",
            "12/12 [==============================] - 0s 20ms/step - loss: 1.5272e-04 - val_loss: 0.0109\n",
            "Epoch 85/100\n",
            "12/12 [==============================] - 0s 21ms/step - loss: 1.8962e-04 - val_loss: 0.0133\n",
            "Epoch 86/100\n",
            "12/12 [==============================] - 0s 20ms/step - loss: 1.4167e-04 - val_loss: 0.0114\n",
            "Epoch 87/100\n",
            "12/12 [==============================] - 0s 20ms/step - loss: 1.3996e-04 - val_loss: 0.0114\n",
            "Epoch 88/100\n",
            "12/12 [==============================] - 0s 20ms/step - loss: 1.5149e-04 - val_loss: 0.0120\n",
            "Epoch 89/100\n",
            "12/12 [==============================] - 0s 20ms/step - loss: 1.2847e-04 - val_loss: 0.0147\n",
            "Epoch 90/100\n",
            "12/12 [==============================] - 0s 20ms/step - loss: 1.5227e-04 - val_loss: 0.0107\n",
            "Epoch 91/100\n",
            "12/12 [==============================] - 0s 20ms/step - loss: 1.3870e-04 - val_loss: 0.0105\n",
            "Epoch 92/100\n",
            "12/12 [==============================] - 0s 20ms/step - loss: 1.4515e-04 - val_loss: 0.0142\n",
            "Epoch 93/100\n",
            "12/12 [==============================] - 0s 21ms/step - loss: 1.2820e-04 - val_loss: 0.0102\n",
            "Epoch 94/100\n",
            "12/12 [==============================] - 0s 20ms/step - loss: 1.4267e-04 - val_loss: 0.0113\n",
            "Epoch 95/100\n",
            "12/12 [==============================] - 0s 20ms/step - loss: 1.3338e-04 - val_loss: 0.0139\n",
            "Epoch 96/100\n",
            "12/12 [==============================] - 0s 20ms/step - loss: 1.4256e-04 - val_loss: 0.0093\n",
            "Epoch 97/100\n",
            "12/12 [==============================] - 0s 20ms/step - loss: 1.4458e-04 - val_loss: 0.0097\n",
            "Epoch 98/100\n",
            "12/12 [==============================] - 0s 20ms/step - loss: 1.4721e-04 - val_loss: 0.0135\n",
            "Epoch 99/100\n",
            "12/12 [==============================] - 0s 20ms/step - loss: 1.4296e-04 - val_loss: 0.0105\n",
            "Epoch 100/100\n",
            "12/12 [==============================] - 0s 20ms/step - loss: 1.1902e-04 - val_loss: 0.0105\n"
          ],
          "name": "stdout"
        },
        {
          "output_type": "execute_result",
          "data": {
            "text/plain": [
              "<tensorflow.python.keras.callbacks.History at 0x7fc93e3267f0>"
            ]
          },
          "metadata": {
            "tags": []
          },
          "execution_count": 18
        }
      ]
    },
    {
      "cell_type": "code",
      "metadata": {
        "id": "ijoWebyyXE_y"
      },
      "source": [
        "import tensorflow as tf"
      ],
      "execution_count": null,
      "outputs": []
    },
    {
      "cell_type": "code",
      "metadata": {
        "id": "f22B-4c4XE_z",
        "outputId": "a3c6e83b-c7e2-4eeb-80ba-bec0b4e4e9f3"
      },
      "source": [
        "tf.__version__"
      ],
      "execution_count": null,
      "outputs": [
        {
          "output_type": "execute_result",
          "data": {
            "text/plain": [
              "'2.1.0'"
            ]
          },
          "metadata": {
            "tags": []
          },
          "execution_count": 39
        }
      ]
    },
    {
      "cell_type": "code",
      "metadata": {
        "id": "fruUrXDkXE_0"
      },
      "source": [
        "### Lets Do the prediction and check performance metrics\n",
        "train_predict=model.predict(X_train)\n",
        "test_predict=model.predict(X_test)"
      ],
      "execution_count": 19,
      "outputs": []
    },
    {
      "cell_type": "code",
      "metadata": {
        "id": "SwjNbljvXE_0"
      },
      "source": [
        "##Transformback to original form\n",
        "train_predict=scaler.inverse_transform(train_predict)\n",
        "test_predict=scaler.inverse_transform(test_predict)"
      ],
      "execution_count": 20,
      "outputs": []
    },
    {
      "cell_type": "code",
      "metadata": {
        "colab": {
          "base_uri": "https://localhost:8080/"
        },
        "id": "PYnhcBFQXE_0",
        "outputId": "48e067f7-48be-45b2-fac2-5ba9f40d5001"
      },
      "source": [
        "### Calculate RMSE performance metrics\n",
        "import math\n",
        "from sklearn.metrics import mean_squared_error\n",
        "math.sqrt(mean_squared_error(y_train,train_predict))"
      ],
      "execution_count": 21,
      "outputs": [
        {
          "output_type": "execute_result",
          "data": {
            "text/plain": [
              "163.82382052678858"
            ]
          },
          "metadata": {
            "tags": []
          },
          "execution_count": 21
        }
      ]
    },
    {
      "cell_type": "code",
      "metadata": {
        "colab": {
          "base_uri": "https://localhost:8080/"
        },
        "id": "oL8k_KpPXE_0",
        "outputId": "66df4364-5f36-44e4-8b97-a00f6a7ee5c8"
      },
      "source": [
        "### Test Data RMSE\n",
        "math.sqrt(mean_squared_error(ytest,test_predict))"
      ],
      "execution_count": 22,
      "outputs": [
        {
          "output_type": "execute_result",
          "data": {
            "text/plain": [
              "250.8955556474143"
            ]
          },
          "metadata": {
            "tags": []
          },
          "execution_count": 22
        }
      ]
    },
    {
      "cell_type": "code",
      "metadata": {
        "colab": {
          "base_uri": "https://localhost:8080/",
          "height": 265
        },
        "id": "f2sQUSltXE_1",
        "outputId": "ff03d6fc-efa8-4480-e731-ab614efae1a2"
      },
      "source": [
        "### Plotting \n",
        "# shift train predictions for plotting\n",
        "look_back=100\n",
        "trainPredictPlot = np.empty_like(df1)\n",
        "trainPredictPlot[:, :] = np.nan\n",
        "trainPredictPlot[look_back:len(train_predict)+look_back, :] = train_predict\n",
        "# shift test predictions for plotting\n",
        "testPredictPlot = np.empty_like(df1)\n",
        "testPredictPlot[:, :] = np.nan\n",
        "testPredictPlot[len(train_predict)+(look_back*2)+1:len(df1)-1, :] = test_predict\n",
        "# plot baseline and predictions\n",
        "plt.plot(scaler.inverse_transform(df1))\n",
        "plt.plot(trainPredictPlot)\n",
        "plt.plot(testPredictPlot)\n",
        "plt.show()"
      ],
      "execution_count": 24,
      "outputs": [
        {
          "output_type": "display_data",
          "data": {
            "image/png": "[encoded data removed]",
            "text/plain": [
              "<Figure size 432x288 with 1 Axes>"
            ]
          },
          "metadata": {
            "tags": [],
            "needs_background": "light"
          }
        }
      ]
    },
    {
      "cell_type": "code",
      "metadata": {
        "colab": {
          "base_uri": "https://localhost:8080/"
        },
        "id": "nuLfmWGdXE_2",
        "outputId": "6393417f-3d6f-43fb-c6e5-9ffe772c3607"
      },
      "source": [
        "len(test_data)"
      ],
      "execution_count": 25,
      "outputs": [
        {
          "output_type": "execute_result",
          "data": {
            "text/plain": [
              "441"
            ]
          },
          "metadata": {
            "tags": []
          },
          "execution_count": 25
        }
      ]
    },
    {
      "cell_type": "code",
      "metadata": {
        "colab": {
          "base_uri": "https://localhost:8080/"
        },
        "id": "Gv0ZFqPsXE_2",
        "outputId": "9c8da1ba-07fe-4db3-9d90-e5a5ac09113f"
      },
      "source": [
        "x_input=test_data[341:].reshape(1,-1)\n",
        "x_input.shape"
      ],
      "execution_count": 26,
      "outputs": [
        {
          "output_type": "execute_result",
          "data": {
            "text/plain": [
              "(1, 100)"
            ]
          },
          "metadata": {
            "tags": []
          },
          "execution_count": 26
        }
      ]
    },
    {
      "cell_type": "code",
      "metadata": {
        "colab": {
          "base_uri": "https://localhost:8080/"
        },
        "id": "oSlDYRomXE_3",
        "outputId": "68426ec9-2bc0-482f-f09f-1b2bbac4dbbf"
      },
      "source": [
        "temp_input=list(x_input)\n",
        "print(temp_input)\n",
        "print(len(temp_input))\n",
        "temp_input=temp_input[0].tolist()"
      ],
      "execution_count": 28,
      "outputs": [
        {
          "output_type": "stream",
          "text": [
            "[array([0.05164161, 0.04036079, 0.04300661, 0.0527721 , 0.05921828,\n",
            "       0.05712568, 0.06126278, 0.06361996, 0.05455201, 0.06292243,\n",
            "       0.05488876, 0.05950692, 0.05924233, 0.06405292, 0.08192423,\n",
            "       0.07398677, 0.07420325, 0.07304871, 0.06898376, 0.06167168,\n",
            "       0.06535177, 0.06381239, 0.06111846, 0.0594107 , 0.05943476,\n",
            "       0.06316296, 0.05017438, 0.06008419, 0.044546  , 0.04432952,\n",
            "       0.04834636, 0.05919423, 0.06900782, 0.06819002, 0.06248948,\n",
            "       0.06164762, 0.07011425, 0.06944077, 0.06956103, 0.07206254,\n",
            "       0.06987372, 0.06660253, 0.06806975, 0.06494287, 0.05654841,\n",
            "       0.05972339, 0.06179194, 0.06313891, 0.06905592, 0.07788334,\n",
            "       0.07874925, 0.07841251, 0.07675286, 0.08036079, 0.08187613,\n",
            "       0.07562237, 0.0791341 , 0.0771377 , 0.07562237, 0.09029465,\n",
            "       0.09012628, 0.09226699, 0.08734817, 0.0911365 , 0.09991581,\n",
            "       0.09770295, 0.10013229, 0.11148527, 0.10710764, 0.10434155,\n",
            "       0.1018641 , 0.09397474, 0.09782321, 0.08721587, 0.09760673,\n",
            "       0.10032471, 0.09294047, 0.09250752, 0.09753458, 0.0927721 ,\n",
            "       0.08851473, 0.09017438, 0.10027661, 0.11191822, 0.11720986,\n",
            "       0.12647023, 0.1270475 , 0.12440168, 0.11244738, 0.10010824,\n",
            "       0.10535177, 0.10739627, 0.10487072, 0.11316897, 0.11165364,\n",
            "       0.11201443, 0.10984967, 0.10835839, 0.10773301, 0.10831028])]\n",
            "1\n"
          ],
          "name": "stdout"
        }
      ]
    },
    {
      "cell_type": "code",
      "metadata": {
        "colab": {
          "base_uri": "https://localhost:8080/"
        },
        "id": "_9YWUrsuXE_4",
        "outputId": "36c6058f-4676-4761-ea47-89834ecd3911"
      },
      "source": [
        "temp_input[0],len(temp_input)"
      ],
      "execution_count": 31,
      "outputs": [
        {
          "output_type": "execute_result",
          "data": {
            "text/plain": [
              "(0.05164161154539987, 100)"
            ]
          },
          "metadata": {
            "tags": []
          },
          "execution_count": 31
        }
      ]
    },
    {
      "cell_type": "code",
      "metadata": {
        "colab": {
          "base_uri": "https://localhost:8080/"
        },
        "id": "-1-4vVfTXE_4",
        "outputId": "27352ea0-f377-47c5-f27f-d4ac97e983af"
      },
      "source": [
        "# demonstrate prediction for next 10 days\n",
        "lst_output=[]\n",
        "n_steps=100\n",
        "i=0\n",
        "while(i<30):\n",
        "    \n",
        "    if(len(temp_input)>100):\n",
        "        #print(temp_input)\n",
        "        x_input=np.array(temp_input[1:])\n",
        "        print(\"{} day input {}\".format(i,x_input))\n",
        "        x_input=x_input.reshape(1,-1)\n",
        "        x_input = x_input.reshape((1, n_steps, 1))\n",
        "        #print(x_input)\n",
        "        yhat = model.predict(x_input, verbose=0)\n",
        "        print(\"{} day output {}\".format(i,yhat))\n",
        "        temp_input.extend(yhat[0].tolist())\n",
        "        temp_input=temp_input[1:]\n",
        "        #print(temp_input)\n",
        "        lst_output.extend(yhat.tolist())\n",
        "        i=i+1\n",
        "    else:\n",
        "        x_input = x_input.reshape((1, n_steps,1))\n",
        "        yhat = model.predict(x_input, verbose=0)\n",
        "        print(yhat[0])\n",
        "        temp_input.extend(yhat[0].tolist())\n",
        "        print(len(temp_input))\n",
        "        lst_output.extend(yhat.tolist())\n",
        "        i=i+1\n",
        "    \n",
        "\n",
        "print(lst_output)"
      ],
      "execution_count": 32,
      "outputs": [
        {
          "output_type": "stream",
          "text": [
            "[0.11174]\n",
            "101\n",
            "1 day input [0.04036079 0.04300661 0.0527721  0.05921828 0.05712568 0.06126278\n",
            " 0.06361996 0.05455201 0.06292243 0.05488876 0.05950692 0.05924233\n",
            " 0.06405292 0.08192423 0.07398677 0.07420325 0.07304871 0.06898376\n",
            " 0.06167168 0.06535177 0.06381239 0.06111846 0.0594107  0.05943476\n",
            " 0.06316296 0.05017438 0.06008419 0.044546   0.04432952 0.04834636\n",
            " 0.05919423 0.06900782 0.06819002 0.06248948 0.06164762 0.07011425\n",
            " 0.06944077 0.06956103 0.07206254 0.06987372 0.06660253 0.06806975\n",
            " 0.06494287 0.05654841 0.05972339 0.06179194 0.06313891 0.06905592\n",
            " 0.07788334 0.07874925 0.07841251 0.07675286 0.08036079 0.08187613\n",
            " 0.07562237 0.0791341  0.0771377  0.07562237 0.09029465 0.09012628\n",
            " 0.09226699 0.08734817 0.0911365  0.09991581 0.09770295 0.10013229\n",
            " 0.11148527 0.10710764 0.10434155 0.1018641  0.09397474 0.09782321\n",
            " 0.08721587 0.09760673 0.10032471 0.09294047 0.09250752 0.09753458\n",
            " 0.0927721  0.08851473 0.09017438 0.10027661 0.11191822 0.11720986\n",
            " 0.12647023 0.1270475  0.12440168 0.11244738 0.10010824 0.10535177\n",
            " 0.10739627 0.10487072 0.11316897 0.11165364 0.11201443 0.10984967\n",
            " 0.10835839 0.10773301 0.10831028 0.11174   ]\n",
            "1 day output [[0.11167774]]\n",
            "2 day input [0.04300661 0.0527721  0.05921828 0.05712568 0.06126278 0.06361996\n",
            " 0.05455201 0.06292243 0.05488876 0.05950692 0.05924233 0.06405292\n",
            " 0.08192423 0.07398677 0.07420325 0.07304871 0.06898376 0.06167168\n",
            " 0.06535177 0.06381239 0.06111846 0.0594107  0.05943476 0.06316296\n",
            " 0.05017438 0.06008419 0.044546   0.04432952 0.04834636 0.05919423\n",
            " 0.06900782 0.06819002 0.06248948 0.06164762 0.07011425 0.06944077\n",
            " 0.06956103 0.07206254 0.06987372 0.06660253 0.06806975 0.06494287\n",
            " 0.05654841 0.05972339 0.06179194 0.06313891 0.06905592 0.07788334\n",
            " 0.07874925 0.07841251 0.07675286 0.08036079 0.08187613 0.07562237\n",
            " 0.0791341  0.0771377  0.07562237 0.09029465 0.09012628 0.09226699\n",
            " 0.08734817 0.0911365  0.09991581 0.09770295 0.10013229 0.11148527\n",
            " 0.10710764 0.10434155 0.1018641  0.09397474 0.09782321 0.08721587\n",
            " 0.09760673 0.10032471 0.09294047 0.09250752 0.09753458 0.0927721\n",
            " 0.08851473 0.09017438 0.10027661 0.11191822 0.11720986 0.12647023\n",
            " 0.1270475  0.12440168 0.11244738 0.10010824 0.10535177 0.10739627\n",
            " 0.10487072 0.11316897 0.11165364 0.11201443 0.10984967 0.10835839\n",
            " 0.10773301 0.10831028 0.11174    0.11167774]\n",
            "2 day output [[0.11183057]]\n",
            "3 day input [0.0527721  0.05921828 0.05712568 0.06126278 0.06361996 0.05455201\n",
            " 0.06292243 0.05488876 0.05950692 0.05924233 0.06405292 0.08192423\n",
            " 0.07398677 0.07420325 0.07304871 0.06898376 0.06167168 0.06535177\n",
            " 0.06381239 0.06111846 0.0594107  0.05943476 0.06316296 0.05017438\n",
            " 0.06008419 0.044546   0.04432952 0.04834636 0.05919423 0.06900782\n",
            " 0.06819002 0.06248948 0.06164762 0.07011425 0.06944077 0.06956103\n",
            " 0.07206254 0.06987372 0.06660253 0.06806975 0.06494287 0.05654841\n",
            " 0.05972339 0.06179194 0.06313891 0.06905592 0.07788334 0.07874925\n",
            " 0.07841251 0.07675286 0.08036079 0.08187613 0.07562237 0.0791341\n",
            " 0.0771377  0.07562237 0.09029465 0.09012628 0.09226699 0.08734817\n",
            " 0.0911365  0.09991581 0.09770295 0.10013229 0.11148527 0.10710764\n",
            " 0.10434155 0.1018641  0.09397474 0.09782321 0.08721587 0.09760673\n",
            " 0.10032471 0.09294047 0.09250752 0.09753458 0.0927721  0.08851473\n",
            " 0.09017438 0.10027661 0.11191822 0.11720986 0.12647023 0.1270475\n",
            " 0.12440168 0.11244738 0.10010824 0.10535177 0.10739627 0.10487072\n",
            " 0.11316897 0.11165364 0.11201443 0.10984967 0.10835839 0.10773301\n",
            " 0.10831028 0.11174    0.11167774 0.11183057]\n",
            "3 day output [[0.11216114]]\n",
            "4 day input [0.05921828 0.05712568 0.06126278 0.06361996 0.05455201 0.06292243\n",
            " 0.05488876 0.05950692 0.05924233 0.06405292 0.08192423 0.07398677\n",
            " 0.07420325 0.07304871 0.06898376 0.06167168 0.06535177 0.06381239\n",
            " 0.06111846 0.0594107  0.05943476 0.06316296 0.05017438 0.06008419\n",
            " 0.044546   0.04432952 0.04834636 0.05919423 0.06900782 0.06819002\n",
            " 0.06248948 0.06164762 0.07011425 0.06944077 0.06956103 0.07206254\n",
            " 0.06987372 0.06660253 0.06806975 0.06494287 0.05654841 0.05972339\n",
            " 0.06179194 0.06313891 0.06905592 0.07788334 0.07874925 0.07841251\n",
            " 0.07675286 0.08036079 0.08187613 0.07562237 0.0791341  0.0771377\n",
            " 0.07562237 0.09029465 0.09012628 0.09226699 0.08734817 0.0911365\n",
            " 0.09991581 0.09770295 0.10013229 0.11148527 0.10710764 0.10434155\n",
            " 0.1018641  0.09397474 0.09782321 0.08721587 0.09760673 0.10032471\n",
            " 0.09294047 0.09250752 0.09753458 0.0927721  0.08851473 0.09017438\n",
            " 0.10027661 0.11191822 0.11720986 0.12647023 0.1270475  0.12440168\n",
            " 0.11244738 0.10010824 0.10535177 0.10739627 0.10487072 0.11316897\n",
            " 0.11165364 0.11201443 0.10984967 0.10835839 0.10773301 0.10831028\n",
            " 0.11174    0.11167774 0.11183057 0.11216114]\n",
            "4 day output [[0.11261715]]\n",
            "5 day input [0.05712568 0.06126278 0.06361996 0.05455201 0.06292243 0.05488876\n",
            " 0.05950692 0.05924233 0.06405292 0.08192423 0.07398677 0.07420325\n",
            " 0.07304871 0.06898376 0.06167168 0.06535177 0.06381239 0.06111846\n",
            " 0.0594107  0.05943476 0.06316296 0.05017438 0.06008419 0.044546\n",
            " 0.04432952 0.04834636 0.05919423 0.06900782 0.06819002 0.06248948\n",
            " 0.06164762 0.07011425 0.06944077 0.06956103 0.07206254 0.06987372\n",
            " 0.06660253 0.06806975 0.06494287 0.05654841 0.05972339 0.06179194\n",
            " 0.06313891 0.06905592 0.07788334 0.07874925 0.07841251 0.07675286\n",
            " 0.08036079 0.08187613 0.07562237 0.0791341  0.0771377  0.07562237\n",
            " 0.09029465 0.09012628 0.09226699 0.08734817 0.0911365  0.09991581\n",
            " 0.09770295 0.10013229 0.11148527 0.10710764 0.10434155 0.1018641\n",
            " 0.09397474 0.09782321 0.08721587 0.09760673 0.10032471 0.09294047\n",
            " 0.09250752 0.09753458 0.0927721  0.08851473 0.09017438 0.10027661\n",
            " 0.11191822 0.11720986 0.12647023 0.1270475  0.12440168 0.11244738\n",
            " 0.10010824 0.10535177 0.10739627 0.10487072 0.11316897 0.11165364\n",
            " 0.11201443 0.10984967 0.10835839 0.10773301 0.10831028 0.11174\n",
            " 0.11167774 0.11183057 0.11216114 0.11261715]\n",
            "5 day output [[0.11315132]]\n",
            "6 day input [0.06126278 0.06361996 0.05455201 0.06292243 0.05488876 0.05950692\n",
            " 0.05924233 0.06405292 0.08192423 0.07398677 0.07420325 0.07304871\n",
            " 0.06898376 0.06167168 0.06535177 0.06381239 0.06111846 0.0594107\n",
            " 0.05943476 0.06316296 0.05017438 0.06008419 0.044546   0.04432952\n",
            " 0.04834636 0.05919423 0.06900782 0.06819002 0.06248948 0.06164762\n",
            " 0.07011425 0.06944077 0.06956103 0.07206254 0.06987372 0.06660253\n",
            " 0.06806975 0.06494287 0.05654841 0.05972339 0.06179194 0.06313891\n",
            " 0.06905592 0.07788334 0.07874925 0.07841251 0.07675286 0.08036079\n",
            " 0.08187613 0.07562237 0.0791341  0.0771377  0.07562237 0.09029465\n",
            " 0.09012628 0.09226699 0.08734817 0.0911365  0.09991581 0.09770295\n",
            " 0.10013229 0.11148527 0.10710764 0.10434155 0.1018641  0.09397474\n",
            " 0.09782321 0.08721587 0.09760673 0.10032471 0.09294047 0.09250752\n",
            " 0.09753458 0.0927721  0.08851473 0.09017438 0.10027661 0.11191822\n",
            " 0.11720986 0.12647023 0.1270475  0.12440168 0.11244738 0.10010824\n",
            " 0.10535177 0.10739627 0.10487072 0.11316897 0.11165364 0.11201443\n",
            " 0.10984967 0.10835839 0.10773301 0.10831028 0.11174    0.11167774\n",
            " 0.11183057 0.11216114 0.11261715 0.11315132]\n",
            "6 day output [[0.11372835]]\n",
            "7 day input [0.06361996 0.05455201 0.06292243 0.05488876 0.05950692 0.05924233\n",
            " 0.06405292 0.08192423 0.07398677 0.07420325 0.07304871 0.06898376\n",
            " 0.06167168 0.06535177 0.06381239 0.06111846 0.0594107  0.05943476\n",
            " 0.06316296 0.05017438 0.06008419 0.044546   0.04432952 0.04834636\n",
            " 0.05919423 0.06900782 0.06819002 0.06248948 0.06164762 0.07011425\n",
            " 0.06944077 0.06956103 0.07206254 0.06987372 0.06660253 0.06806975\n",
            " 0.06494287 0.05654841 0.05972339 0.06179194 0.06313891 0.06905592\n",
            " 0.07788334 0.07874925 0.07841251 0.07675286 0.08036079 0.08187613\n",
            " 0.07562237 0.0791341  0.0771377  0.07562237 0.09029465 0.09012628\n",
            " 0.09226699 0.08734817 0.0911365  0.09991581 0.09770295 0.10013229\n",
            " 0.11148527 0.10710764 0.10434155 0.1018641  0.09397474 0.09782321\n",
            " 0.08721587 0.09760673 0.10032471 0.09294047 0.09250752 0.09753458\n",
            " 0.0927721  0.08851473 0.09017438 0.10027661 0.11191822 0.11720986\n",
            " 0.12647023 0.1270475  0.12440168 0.11244738 0.10010824 0.10535177\n",
            " 0.10739627 0.10487072 0.11316897 0.11165364 0.11201443 0.10984967\n",
            " 0.10835839 0.10773301 0.10831028 0.11174    0.11167774 0.11183057\n",
            " 0.11216114 0.11261715 0.11315132 0.11372835]\n",
            "7 day output [[0.11432517]]\n",
            "8 day input [0.05455201 0.06292243 0.05488876 0.05950692 0.05924233 0.06405292\n",
            " 0.08192423 0.07398677 0.07420325 0.07304871 0.06898376 0.06167168\n",
            " 0.06535177 0.06381239 0.06111846 0.0594107  0.05943476 0.06316296\n",
            " 0.05017438 0.06008419 0.044546   0.04432952 0.04834636 0.05919423\n",
            " 0.06900782 0.06819002 0.06248948 0.06164762 0.07011425 0.06944077\n",
            " 0.06956103 0.07206254 0.06987372 0.06660253 0.06806975 0.06494287\n",
            " 0.05654841 0.05972339 0.06179194 0.06313891 0.06905592 0.07788334\n",
            " 0.07874925 0.07841251 0.07675286 0.08036079 0.08187613 0.07562237\n",
            " 0.0791341  0.0771377  0.07562237 0.09029465 0.09012628 0.09226699\n",
            " 0.08734817 0.0911365  0.09991581 0.09770295 0.10013229 0.11148527\n",
            " 0.10710764 0.10434155 0.1018641  0.09397474 0.09782321 0.08721587\n",
            " 0.09760673 0.10032471 0.09294047 0.09250752 0.09753458 0.0927721\n",
            " 0.08851473 0.09017438 0.10027661 0.11191822 0.11720986 0.12647023\n",
            " 0.1270475  0.12440168 0.11244738 0.10010824 0.10535177 0.10739627\n",
            " 0.10487072 0.11316897 0.11165364 0.11201443 0.10984967 0.10835839\n",
            " 0.10773301 0.10831028 0.11174    0.11167774 0.11183057 0.11216114\n",
            " 0.11261715 0.11315132 0.11372835 0.11432517]\n",
            "8 day output [[0.11492825]]\n",
            "9 day input [0.06292243 0.05488876 0.05950692 0.05924233 0.06405292 0.08192423\n",
            " 0.07398677 0.07420325 0.07304871 0.06898376 0.06167168 0.06535177\n",
            " 0.06381239 0.06111846 0.0594107  0.05943476 0.06316296 0.05017438\n",
            " 0.06008419 0.044546   0.04432952 0.04834636 0.05919423 0.06900782\n",
            " 0.06819002 0.06248948 0.06164762 0.07011425 0.06944077 0.06956103\n",
            " 0.07206254 0.06987372 0.06660253 0.06806975 0.06494287 0.05654841\n",
            " 0.05972339 0.06179194 0.06313891 0.06905592 0.07788334 0.07874925\n",
            " 0.07841251 0.07675286 0.08036079 0.08187613 0.07562237 0.0791341\n",
            " 0.0771377  0.07562237 0.09029465 0.09012628 0.09226699 0.08734817\n",
            " 0.0911365  0.09991581 0.09770295 0.10013229 0.11148527 0.10710764\n",
            " 0.10434155 0.1018641  0.09397474 0.09782321 0.08721587 0.09760673\n",
            " 0.10032471 0.09294047 0.09250752 0.09753458 0.0927721  0.08851473\n",
            " 0.09017438 0.10027661 0.11191822 0.11720986 0.12647023 0.1270475\n",
            " 0.12440168 0.11244738 0.10010824 0.10535177 0.10739627 0.10487072\n",
            " 0.11316897 0.11165364 0.11201443 0.10984967 0.10835839 0.10773301\n",
            " 0.10831028 0.11174    0.11167774 0.11183057 0.11216114 0.11261715\n",
            " 0.11315132 0.11372835 0.11432517 0.11492825]\n",
            "9 day output [[0.11553058]]\n",
            "10 day input [0.05488876 0.05950692 0.05924233 0.06405292 0.08192423 0.07398677\n",
            " 0.07420325 0.07304871 0.06898376 0.06167168 0.06535177 0.06381239\n",
            " 0.06111846 0.0594107  0.05943476 0.06316296 0.05017438 0.06008419\n",
            " 0.044546   0.04432952 0.04834636 0.05919423 0.06900782 0.06819002\n",
            " 0.06248948 0.06164762 0.07011425 0.06944077 0.06956103 0.07206254\n",
            " 0.06987372 0.06660253 0.06806975 0.06494287 0.05654841 0.05972339\n",
            " 0.06179194 0.06313891 0.06905592 0.07788334 0.07874925 0.07841251\n",
            " 0.07675286 0.08036079 0.08187613 0.07562237 0.0791341  0.0771377\n",
            " 0.07562237 0.09029465 0.09012628 0.09226699 0.08734817 0.0911365\n",
            " 0.09991581 0.09770295 0.10013229 0.11148527 0.10710764 0.10434155\n",
            " 0.1018641  0.09397474 0.09782321 0.08721587 0.09760673 0.10032471\n",
            " 0.09294047 0.09250752 0.09753458 0.0927721  0.08851473 0.09017438\n",
            " 0.10027661 0.11191822 0.11720986 0.12647023 0.1270475  0.12440168\n",
            " 0.11244738 0.10010824 0.10535177 0.10739627 0.10487072 0.11316897\n",
            " 0.11165364 0.11201443 0.10984967 0.10835839 0.10773301 0.10831028\n",
            " 0.11174    0.11167774 0.11183057 0.11216114 0.11261715 0.11315132\n",
            " 0.11372835 0.11432517 0.11492825 0.11553058]\n",
            "10 day output [[0.11612903]]\n",
            "11 day input [0.05950692 0.05924233 0.06405292 0.08192423 0.07398677 0.07420325\n",
            " 0.07304871 0.06898376 0.06167168 0.06535177 0.06381239 0.06111846\n",
            " 0.0594107  0.05943476 0.06316296 0.05017438 0.06008419 0.044546\n",
            " 0.04432952 0.04834636 0.05919423 0.06900782 0.06819002 0.06248948\n",
            " 0.06164762 0.07011425 0.06944077 0.06956103 0.07206254 0.06987372\n",
            " 0.06660253 0.06806975 0.06494287 0.05654841 0.05972339 0.06179194\n",
            " 0.06313891 0.06905592 0.07788334 0.07874925 0.07841251 0.07675286\n",
            " 0.08036079 0.08187613 0.07562237 0.0791341  0.0771377  0.07562237\n",
            " 0.09029465 0.09012628 0.09226699 0.08734817 0.0911365  0.09991581\n",
            " 0.09770295 0.10013229 0.11148527 0.10710764 0.10434155 0.1018641\n",
            " 0.09397474 0.09782321 0.08721587 0.09760673 0.10032471 0.09294047\n",
            " 0.09250752 0.09753458 0.0927721  0.08851473 0.09017438 0.10027661\n",
            " 0.11191822 0.11720986 0.12647023 0.1270475  0.12440168 0.11244738\n",
            " 0.10010824 0.10535177 0.10739627 0.10487072 0.11316897 0.11165364\n",
            " 0.11201443 0.10984967 0.10835839 0.10773301 0.10831028 0.11174\n",
            " 0.11167774 0.11183057 0.11216114 0.11261715 0.11315132 0.11372835\n",
            " 0.11432517 0.11492825 0.11553058 0.11612903]\n",
            "11 day output [[0.11672252]]\n",
            "12 day input [0.05924233 0.06405292 0.08192423 0.07398677 0.07420325 0.07304871\n",
            " 0.06898376 0.06167168 0.06535177 0.06381239 0.06111846 0.0594107\n",
            " 0.05943476 0.06316296 0.05017438 0.06008419 0.044546   0.04432952\n",
            " 0.04834636 0.05919423 0.06900782 0.06819002 0.06248948 0.06164762\n",
            " 0.07011425 0.06944077 0.06956103 0.07206254 0.06987372 0.06660253\n",
            " 0.06806975 0.06494287 0.05654841 0.05972339 0.06179194 0.06313891\n",
            " 0.06905592 0.07788334 0.07874925 0.07841251 0.07675286 0.08036079\n",
            " 0.08187613 0.07562237 0.0791341  0.0771377  0.07562237 0.09029465\n",
            " 0.09012628 0.09226699 0.08734817 0.0911365  0.09991581 0.09770295\n",
            " 0.10013229 0.11148527 0.10710764 0.10434155 0.1018641  0.09397474\n",
            " 0.09782321 0.08721587 0.09760673 0.10032471 0.09294047 0.09250752\n",
            " 0.09753458 0.0927721  0.08851473 0.09017438 0.10027661 0.11191822\n",
            " 0.11720986 0.12647023 0.1270475  0.12440168 0.11244738 0.10010824\n",
            " 0.10535177 0.10739627 0.10487072 0.11316897 0.11165364 0.11201443\n",
            " 0.10984967 0.10835839 0.10773301 0.10831028 0.11174    0.11167774\n",
            " 0.11183057 0.11216114 0.11261715 0.11315132 0.11372835 0.11432517\n",
            " 0.11492825 0.11553058 0.11612903 0.11672252]\n",
            "12 day output [[0.1173109]]\n",
            "13 day input [0.06405292 0.08192423 0.07398677 0.07420325 0.07304871 0.06898376\n",
            " 0.06167168 0.06535177 0.06381239 0.06111846 0.0594107  0.05943476\n",
            " 0.06316296 0.05017438 0.06008419 0.044546   0.04432952 0.04834636\n",
            " 0.05919423 0.06900782 0.06819002 0.06248948 0.06164762 0.07011425\n",
            " 0.06944077 0.06956103 0.07206254 0.06987372 0.06660253 0.06806975\n",
            " 0.06494287 0.05654841 0.05972339 0.06179194 0.06313891 0.06905592\n",
            " 0.07788334 0.07874925 0.07841251 0.07675286 0.08036079 0.08187613\n",
            " 0.07562237 0.0791341  0.0771377  0.07562237 0.09029465 0.09012628\n",
            " 0.09226699 0.08734817 0.0911365  0.09991581 0.09770295 0.10013229\n",
            " 0.11148527 0.10710764 0.10434155 0.1018641  0.09397474 0.09782321\n",
            " 0.08721587 0.09760673 0.10032471 0.09294047 0.09250752 0.09753458\n",
            " 0.0927721  0.08851473 0.09017438 0.10027661 0.11191822 0.11720986\n",
            " 0.12647023 0.1270475  0.12440168 0.11244738 0.10010824 0.10535177\n",
            " 0.10739627 0.10487072 0.11316897 0.11165364 0.11201443 0.10984967\n",
            " 0.10835839 0.10773301 0.10831028 0.11174    0.11167774 0.11183057\n",
            " 0.11216114 0.11261715 0.11315132 0.11372835 0.11432517 0.11492825\n",
            " 0.11553058 0.11612903 0.11672252 0.1173109 ]\n",
            "13 day output [[0.1178944]]\n",
            "14 day input [0.08192423 0.07398677 0.07420325 0.07304871 0.06898376 0.06167168\n",
            " 0.06535177 0.06381239 0.06111846 0.0594107  0.05943476 0.06316296\n",
            " 0.05017438 0.06008419 0.044546   0.04432952 0.04834636 0.05919423\n",
            " 0.06900782 0.06819002 0.06248948 0.06164762 0.07011425 0.06944077\n",
            " 0.06956103 0.07206254 0.06987372 0.06660253 0.06806975 0.06494287\n",
            " 0.05654841 0.05972339 0.06179194 0.06313891 0.06905592 0.07788334\n",
            " 0.07874925 0.07841251 0.07675286 0.08036079 0.08187613 0.07562237\n",
            " 0.0791341  0.0771377  0.07562237 0.09029465 0.09012628 0.09226699\n",
            " 0.08734817 0.0911365  0.09991581 0.09770295 0.10013229 0.11148527\n",
            " 0.10710764 0.10434155 0.1018641  0.09397474 0.09782321 0.08721587\n",
            " 0.09760673 0.10032471 0.09294047 0.09250752 0.09753458 0.0927721\n",
            " 0.08851473 0.09017438 0.10027661 0.11191822 0.11720986 0.12647023\n",
            " 0.1270475  0.12440168 0.11244738 0.10010824 0.10535177 0.10739627\n",
            " 0.10487072 0.11316897 0.11165364 0.11201443 0.10984967 0.10835839\n",
            " 0.10773301 0.10831028 0.11174    0.11167774 0.11183057 0.11216114\n",
            " 0.11261715 0.11315132 0.11372835 0.11432517 0.11492825 0.11553058\n",
            " 0.11612903 0.11672252 0.1173109  0.1178944 ]\n",
            "14 day output [[0.1184734]]\n",
            "15 day input [0.07398677 0.07420325 0.07304871 0.06898376 0.06167168 0.06535177\n",
            " 0.06381239 0.06111846 0.0594107  0.05943476 0.06316296 0.05017438\n",
            " 0.06008419 0.044546   0.04432952 0.04834636 0.05919423 0.06900782\n",
            " 0.06819002 0.06248948 0.06164762 0.07011425 0.06944077 0.06956103\n",
            " 0.07206254 0.06987372 0.06660253 0.06806975 0.06494287 0.05654841\n",
            " 0.05972339 0.06179194 0.06313891 0.06905592 0.07788334 0.07874925\n",
            " 0.07841251 0.07675286 0.08036079 0.08187613 0.07562237 0.0791341\n",
            " 0.0771377  0.07562237 0.09029465 0.09012628 0.09226699 0.08734817\n",
            " 0.0911365  0.09991581 0.09770295 0.10013229 0.11148527 0.10710764\n",
            " 0.10434155 0.1018641  0.09397474 0.09782321 0.08721587 0.09760673\n",
            " 0.10032471 0.09294047 0.09250752 0.09753458 0.0927721  0.08851473\n",
            " 0.09017438 0.10027661 0.11191822 0.11720986 0.12647023 0.1270475\n",
            " 0.12440168 0.11244738 0.10010824 0.10535177 0.10739627 0.10487072\n",
            " 0.11316897 0.11165364 0.11201443 0.10984967 0.10835839 0.10773301\n",
            " 0.10831028 0.11174    0.11167774 0.11183057 0.11216114 0.11261715\n",
            " 0.11315132 0.11372835 0.11432517 0.11492825 0.11553058 0.11612903\n",
            " 0.11672252 0.1173109  0.1178944  0.1184734 ]\n",
            "15 day output [[0.11904823]]\n",
            "16 day input [0.07420325 0.07304871 0.06898376 0.06167168 0.06535177 0.06381239\n",
            " 0.06111846 0.0594107  0.05943476 0.06316296 0.05017438 0.06008419\n",
            " 0.044546   0.04432952 0.04834636 0.05919423 0.06900782 0.06819002\n",
            " 0.06248948 0.06164762 0.07011425 0.06944077 0.06956103 0.07206254\n",
            " 0.06987372 0.06660253 0.06806975 0.06494287 0.05654841 0.05972339\n",
            " 0.06179194 0.06313891 0.06905592 0.07788334 0.07874925 0.07841251\n",
            " 0.07675286 0.08036079 0.08187613 0.07562237 0.0791341  0.0771377\n",
            " 0.07562237 0.09029465 0.09012628 0.09226699 0.08734817 0.0911365\n",
            " 0.09991581 0.09770295 0.10013229 0.11148527 0.10710764 0.10434155\n",
            " 0.1018641  0.09397474 0.09782321 0.08721587 0.09760673 0.10032471\n",
            " 0.09294047 0.09250752 0.09753458 0.0927721  0.08851473 0.09017438\n",
            " 0.10027661 0.11191822 0.11720986 0.12647023 0.1270475  0.12440168\n",
            " 0.11244738 0.10010824 0.10535177 0.10739627 0.10487072 0.11316897\n",
            " 0.11165364 0.11201443 0.10984967 0.10835839 0.10773301 0.10831028\n",
            " 0.11174    0.11167774 0.11183057 0.11216114 0.11261715 0.11315132\n",
            " 0.11372835 0.11432517 0.11492825 0.11553058 0.11612903 0.11672252\n",
            " 0.1173109  0.1178944  0.1184734  0.11904823]\n",
            "16 day output [[0.11961923]]\n",
            "17 day input [0.07304871 0.06898376 0.06167168 0.06535177 0.06381239 0.06111846\n",
            " 0.0594107  0.05943476 0.06316296 0.05017438 0.06008419 0.044546\n",
            " 0.04432952 0.04834636 0.05919423 0.06900782 0.06819002 0.06248948\n",
            " 0.06164762 0.07011425 0.06944077 0.06956103 0.07206254 0.06987372\n",
            " 0.06660253 0.06806975 0.06494287 0.05654841 0.05972339 0.06179194\n",
            " 0.06313891 0.06905592 0.07788334 0.07874925 0.07841251 0.07675286\n",
            " 0.08036079 0.08187613 0.07562237 0.0791341  0.0771377  0.07562237\n",
            " 0.09029465 0.09012628 0.09226699 0.08734817 0.0911365  0.09991581\n",
            " 0.09770295 0.10013229 0.11148527 0.10710764 0.10434155 0.1018641\n",
            " 0.09397474 0.09782321 0.08721587 0.09760673 0.10032471 0.09294047\n",
            " 0.09250752 0.09753458 0.0927721  0.08851473 0.09017438 0.10027661\n",
            " 0.11191822 0.11720986 0.12647023 0.1270475  0.12440168 0.11244738\n",
            " 0.10010824 0.10535177 0.10739627 0.10487072 0.11316897 0.11165364\n",
            " 0.11201443 0.10984967 0.10835839 0.10773301 0.10831028 0.11174\n",
            " 0.11167774 0.11183057 0.11216114 0.11261715 0.11315132 0.11372835\n",
            " 0.11432517 0.11492825 0.11553058 0.11612903 0.11672252 0.1173109\n",
            " 0.1178944  0.1184734  0.11904823 0.11961923]\n",
            "17 day output [[0.1201868]]\n",
            "18 day input [0.06898376 0.06167168 0.06535177 0.06381239 0.06111846 0.0594107\n",
            " 0.05943476 0.06316296 0.05017438 0.06008419 0.044546   0.04432952\n",
            " 0.04834636 0.05919423 0.06900782 0.06819002 0.06248948 0.06164762\n",
            " 0.07011425 0.06944077 0.06956103 0.07206254 0.06987372 0.06660253\n",
            " 0.06806975 0.06494287 0.05654841 0.05972339 0.06179194 0.06313891\n",
            " 0.06905592 0.07788334 0.07874925 0.07841251 0.07675286 0.08036079\n",
            " 0.08187613 0.07562237 0.0791341  0.0771377  0.07562237 0.09029465\n",
            " 0.09012628 0.09226699 0.08734817 0.0911365  0.09991581 0.09770295\n",
            " 0.10013229 0.11148527 0.10710764 0.10434155 0.1018641  0.09397474\n",
            " 0.09782321 0.08721587 0.09760673 0.10032471 0.09294047 0.09250752\n",
            " 0.09753458 0.0927721  0.08851473 0.09017438 0.10027661 0.11191822\n",
            " 0.11720986 0.12647023 0.1270475  0.12440168 0.11244738 0.10010824\n",
            " 0.10535177 0.10739627 0.10487072 0.11316897 0.11165364 0.11201443\n",
            " 0.10984967 0.10835839 0.10773301 0.10831028 0.11174    0.11167774\n",
            " 0.11183057 0.11216114 0.11261715 0.11315132 0.11372835 0.11432517\n",
            " 0.11492825 0.11553058 0.11612903 0.11672252 0.1173109  0.1178944\n",
            " 0.1184734  0.11904823 0.11961923 0.1201868 ]\n",
            "18 day output [[0.12075132]]\n",
            "19 day input [0.06167168 0.06535177 0.06381239 0.06111846 0.0594107  0.05943476\n",
            " 0.06316296 0.05017438 0.06008419 0.044546   0.04432952 0.04834636\n",
            " 0.05919423 0.06900782 0.06819002 0.06248948 0.06164762 0.07011425\n",
            " 0.06944077 0.06956103 0.07206254 0.06987372 0.06660253 0.06806975\n",
            " 0.06494287 0.05654841 0.05972339 0.06179194 0.06313891 0.06905592\n",
            " 0.07788334 0.07874925 0.07841251 0.07675286 0.08036079 0.08187613\n",
            " 0.07562237 0.0791341  0.0771377  0.07562237 0.09029465 0.09012628\n",
            " 0.09226699 0.08734817 0.0911365  0.09991581 0.09770295 0.10013229\n",
            " 0.11148527 0.10710764 0.10434155 0.1018641  0.09397474 0.09782321\n",
            " 0.08721587 0.09760673 0.10032471 0.09294047 0.09250752 0.09753458\n",
            " 0.0927721  0.08851473 0.09017438 0.10027661 0.11191822 0.11720986\n",
            " 0.12647023 0.1270475  0.12440168 0.11244738 0.10010824 0.10535177\n",
            " 0.10739627 0.10487072 0.11316897 0.11165364 0.11201443 0.10984967\n",
            " 0.10835839 0.10773301 0.10831028 0.11174    0.11167774 0.11183057\n",
            " 0.11216114 0.11261715 0.11315132 0.11372835 0.11432517 0.11492825\n",
            " 0.11553058 0.11612903 0.11672252 0.1173109  0.1178944  0.1184734\n",
            " 0.11904823 0.11961923 0.1201868  0.12075132]\n",
            "19 day output [[0.12131319]]\n",
            "20 day input [0.06535177 0.06381239 0.06111846 0.0594107  0.05943476 0.06316296\n",
            " 0.05017438 0.06008419 0.044546   0.04432952 0.04834636 0.05919423\n",
            " 0.06900782 0.06819002 0.06248948 0.06164762 0.07011425 0.06944077\n",
            " 0.06956103 0.07206254 0.06987372 0.06660253 0.06806975 0.06494287\n",
            " 0.05654841 0.05972339 0.06179194 0.06313891 0.06905592 0.07788334\n",
            " 0.07874925 0.07841251 0.07675286 0.08036079 0.08187613 0.07562237\n",
            " 0.0791341  0.0771377  0.07562237 0.09029465 0.09012628 0.09226699\n",
            " 0.08734817 0.0911365  0.09991581 0.09770295 0.10013229 0.11148527\n",
            " 0.10710764 0.10434155 0.1018641  0.09397474 0.09782321 0.08721587\n",
            " 0.09760673 0.10032471 0.09294047 0.09250752 0.09753458 0.0927721\n",
            " 0.08851473 0.09017438 0.10027661 0.11191822 0.11720986 0.12647023\n",
            " 0.1270475  0.12440168 0.11244738 0.10010824 0.10535177 0.10739627\n",
            " 0.10487072 0.11316897 0.11165364 0.11201443 0.10984967 0.10835839\n",
            " 0.10773301 0.10831028 0.11174    0.11167774 0.11183057 0.11216114\n",
            " 0.11261715 0.11315132 0.11372835 0.11432517 0.11492825 0.11553058\n",
            " 0.11612903 0.11672252 0.1173109  0.1178944  0.1184734  0.11904823\n",
            " 0.11961923 0.1201868  0.12075132 0.12131319]\n",
            "20 day output [[0.12187286]]\n",
            "21 day input [0.06381239 0.06111846 0.0594107  0.05943476 0.06316296 0.05017438\n",
            " 0.06008419 0.044546   0.04432952 0.04834636 0.05919423 0.06900782\n",
            " 0.06819002 0.06248948 0.06164762 0.07011425 0.06944077 0.06956103\n",
            " 0.07206254 0.06987372 0.06660253 0.06806975 0.06494287 0.05654841\n",
            " 0.05972339 0.06179194 0.06313891 0.06905592 0.07788334 0.07874925\n",
            " 0.07841251 0.07675286 0.08036079 0.08187613 0.07562237 0.0791341\n",
            " 0.0771377  0.07562237 0.09029465 0.09012628 0.09226699 0.08734817\n",
            " 0.0911365  0.09991581 0.09770295 0.10013229 0.11148527 0.10710764\n",
            " 0.10434155 0.1018641  0.09397474 0.09782321 0.08721587 0.09760673\n",
            " 0.10032471 0.09294047 0.09250752 0.09753458 0.0927721  0.08851473\n",
            " 0.09017438 0.10027661 0.11191822 0.11720986 0.12647023 0.1270475\n",
            " 0.12440168 0.11244738 0.10010824 0.10535177 0.10739627 0.10487072\n",
            " 0.11316897 0.11165364 0.11201443 0.10984967 0.10835839 0.10773301\n",
            " 0.10831028 0.11174    0.11167774 0.11183057 0.11216114 0.11261715\n",
            " 0.11315132 0.11372835 0.11432517 0.11492825 0.11553058 0.11612903\n",
            " 0.11672252 0.1173109  0.1178944  0.1184734  0.11904823 0.11961923\n",
            " 0.1201868  0.12075132 0.12131319 0.12187286]\n",
            "21 day output [[0.12243071]]\n",
            "22 day input [0.06111846 0.0594107  0.05943476 0.06316296 0.05017438 0.06008419\n",
            " 0.044546   0.04432952 0.04834636 0.05919423 0.06900782 0.06819002\n",
            " 0.06248948 0.06164762 0.07011425 0.06944077 0.06956103 0.07206254\n",
            " 0.06987372 0.06660253 0.06806975 0.06494287 0.05654841 0.05972339\n",
            " 0.06179194 0.06313891 0.06905592 0.07788334 0.07874925 0.07841251\n",
            " 0.07675286 0.08036079 0.08187613 0.07562237 0.0791341  0.0771377\n",
            " 0.07562237 0.09029465 0.09012628 0.09226699 0.08734817 0.0911365\n",
            " 0.09991581 0.09770295 0.10013229 0.11148527 0.10710764 0.10434155\n",
            " 0.1018641  0.09397474 0.09782321 0.08721587 0.09760673 0.10032471\n",
            " 0.09294047 0.09250752 0.09753458 0.0927721  0.08851473 0.09017438\n",
            " 0.10027661 0.11191822 0.11720986 0.12647023 0.1270475  0.12440168\n",
            " 0.11244738 0.10010824 0.10535177 0.10739627 0.10487072 0.11316897\n",
            " 0.11165364 0.11201443 0.10984967 0.10835839 0.10773301 0.10831028\n",
            " 0.11174    0.11167774 0.11183057 0.11216114 0.11261715 0.11315132\n",
            " 0.11372835 0.11432517 0.11492825 0.11553058 0.11612903 0.11672252\n",
            " 0.1173109  0.1178944  0.1184734  0.11904823 0.11961923 0.1201868\n",
            " 0.12075132 0.12131319 0.12187286 0.12243071]\n",
            "22 day output [[0.12298718]]\n",
            "23 day input [0.0594107  0.05943476 0.06316296 0.05017438 0.06008419 0.044546\n",
            " 0.04432952 0.04834636 0.05919423 0.06900782 0.06819002 0.06248948\n",
            " 0.06164762 0.07011425 0.06944077 0.06956103 0.07206254 0.06987372\n",
            " 0.06660253 0.06806975 0.06494287 0.05654841 0.05972339 0.06179194\n",
            " 0.06313891 0.06905592 0.07788334 0.07874925 0.07841251 0.07675286\n",
            " 0.08036079 0.08187613 0.07562237 0.0791341  0.0771377  0.07562237\n",
            " 0.09029465 0.09012628 0.09226699 0.08734817 0.0911365  0.09991581\n",
            " 0.09770295 0.10013229 0.11148527 0.10710764 0.10434155 0.1018641\n",
            " 0.09397474 0.09782321 0.08721587 0.09760673 0.10032471 0.09294047\n",
            " 0.09250752 0.09753458 0.0927721  0.08851473 0.09017438 0.10027661\n",
            " 0.11191822 0.11720986 0.12647023 0.1270475  0.12440168 0.11244738\n",
            " 0.10010824 0.10535177 0.10739627 0.10487072 0.11316897 0.11165364\n",
            " 0.11201443 0.10984967 0.10835839 0.10773301 0.10831028 0.11174\n",
            " 0.11167774 0.11183057 0.11216114 0.11261715 0.11315132 0.11372835\n",
            " 0.11432517 0.11492825 0.11553058 0.11612903 0.11672252 0.1173109\n",
            " 0.1178944  0.1184734  0.11904823 0.11961923 0.1201868  0.12075132\n",
            " 0.12131319 0.12187286 0.12243071 0.12298718]\n",
            "23 day output [[0.12354261]]\n",
            "24 day input [0.05943476 0.06316296 0.05017438 0.06008419 0.044546   0.04432952\n",
            " 0.04834636 0.05919423 0.06900782 0.06819002 0.06248948 0.06164762\n",
            " 0.07011425 0.06944077 0.06956103 0.07206254 0.06987372 0.06660253\n",
            " 0.06806975 0.06494287 0.05654841 0.05972339 0.06179194 0.06313891\n",
            " 0.06905592 0.07788334 0.07874925 0.07841251 0.07675286 0.08036079\n",
            " 0.08187613 0.07562237 0.0791341  0.0771377  0.07562237 0.09029465\n",
            " 0.09012628 0.09226699 0.08734817 0.0911365  0.09991581 0.09770295\n",
            " 0.10013229 0.11148527 0.10710764 0.10434155 0.1018641  0.09397474\n",
            " 0.09782321 0.08721587 0.09760673 0.10032471 0.09294047 0.09250752\n",
            " 0.09753458 0.0927721  0.08851473 0.09017438 0.10027661 0.11191822\n",
            " 0.11720986 0.12647023 0.1270475  0.12440168 0.11244738 0.10010824\n",
            " 0.10535177 0.10739627 0.10487072 0.11316897 0.11165364 0.11201443\n",
            " 0.10984967 0.10835839 0.10773301 0.10831028 0.11174    0.11167774\n",
            " 0.11183057 0.11216114 0.11261715 0.11315132 0.11372835 0.11432517\n",
            " 0.11492825 0.11553058 0.11612903 0.11672252 0.1173109  0.1178944\n",
            " 0.1184734  0.11904823 0.11961923 0.1201868  0.12075132 0.12131319\n",
            " 0.12187286 0.12243071 0.12298718 0.12354261]\n",
            "24 day output [[0.12409736]]\n",
            "25 day input [0.06316296 0.05017438 0.06008419 0.044546   0.04432952 0.04834636\n",
            " 0.05919423 0.06900782 0.06819002 0.06248948 0.06164762 0.07011425\n",
            " 0.06944077 0.06956103 0.07206254 0.06987372 0.06660253 0.06806975\n",
            " 0.06494287 0.05654841 0.05972339 0.06179194 0.06313891 0.06905592\n",
            " 0.07788334 0.07874925 0.07841251 0.07675286 0.08036079 0.08187613\n",
            " 0.07562237 0.0791341  0.0771377  0.07562237 0.09029465 0.09012628\n",
            " 0.09226699 0.08734817 0.0911365  0.09991581 0.09770295 0.10013229\n",
            " 0.11148527 0.10710764 0.10434155 0.1018641  0.09397474 0.09782321\n",
            " 0.08721587 0.09760673 0.10032471 0.09294047 0.09250752 0.09753458\n",
            " 0.0927721  0.08851473 0.09017438 0.10027661 0.11191822 0.11720986\n",
            " 0.12647023 0.1270475  0.12440168 0.11244738 0.10010824 0.10535177\n",
            " 0.10739627 0.10487072 0.11316897 0.11165364 0.11201443 0.10984967\n",
            " 0.10835839 0.10773301 0.10831028 0.11174    0.11167774 0.11183057\n",
            " 0.11216114 0.11261715 0.11315132 0.11372835 0.11432517 0.11492825\n",
            " 0.11553058 0.11612903 0.11672252 0.1173109  0.1178944  0.1184734\n",
            " 0.11904823 0.11961923 0.1201868  0.12075132 0.12131319 0.12187286\n",
            " 0.12243071 0.12298718 0.12354261 0.12409736]\n",
            "25 day output [[0.12465173]]\n",
            "26 day input [0.05017438 0.06008419 0.044546   0.04432952 0.04834636 0.05919423\n",
            " 0.06900782 0.06819002 0.06248948 0.06164762 0.07011425 0.06944077\n",
            " 0.06956103 0.07206254 0.06987372 0.06660253 0.06806975 0.06494287\n",
            " 0.05654841 0.05972339 0.06179194 0.06313891 0.06905592 0.07788334\n",
            " 0.07874925 0.07841251 0.07675286 0.08036079 0.08187613 0.07562237\n",
            " 0.0791341  0.0771377  0.07562237 0.09029465 0.09012628 0.09226699\n",
            " 0.08734817 0.0911365  0.09991581 0.09770295 0.10013229 0.11148527\n",
            " 0.10710764 0.10434155 0.1018641  0.09397474 0.09782321 0.08721587\n",
            " 0.09760673 0.10032471 0.09294047 0.09250752 0.09753458 0.0927721\n",
            " 0.08851473 0.09017438 0.10027661 0.11191822 0.11720986 0.12647023\n",
            " 0.1270475  0.12440168 0.11244738 0.10010824 0.10535177 0.10739627\n",
            " 0.10487072 0.11316897 0.11165364 0.11201443 0.10984967 0.10835839\n",
            " 0.10773301 0.10831028 0.11174    0.11167774 0.11183057 0.11216114\n",
            " 0.11261715 0.11315132 0.11372835 0.11432517 0.11492825 0.11553058\n",
            " 0.11612903 0.11672252 0.1173109  0.1178944  0.1184734  0.11904823\n",
            " 0.11961923 0.1201868  0.12075132 0.12131319 0.12187286 0.12243071\n",
            " 0.12298718 0.12354261 0.12409736 0.12465173]\n",
            "26 day output [[0.12520596]]\n",
            "27 day input [0.06008419 0.044546   0.04432952 0.04834636 0.05919423 0.06900782\n",
            " 0.06819002 0.06248948 0.06164762 0.07011425 0.06944077 0.06956103\n",
            " 0.07206254 0.06987372 0.06660253 0.06806975 0.06494287 0.05654841\n",
            " 0.05972339 0.06179194 0.06313891 0.06905592 0.07788334 0.07874925\n",
            " 0.07841251 0.07675286 0.08036079 0.08187613 0.07562237 0.0791341\n",
            " 0.0771377  0.07562237 0.09029465 0.09012628 0.09226699 0.08734817\n",
            " 0.0911365  0.09991581 0.09770295 0.10013229 0.11148527 0.10710764\n",
            " 0.10434155 0.1018641  0.09397474 0.09782321 0.08721587 0.09760673\n",
            " 0.10032471 0.09294047 0.09250752 0.09753458 0.0927721  0.08851473\n",
            " 0.09017438 0.10027661 0.11191822 0.11720986 0.12647023 0.1270475\n",
            " 0.12440168 0.11244738 0.10010824 0.10535177 0.10739627 0.10487072\n",
            " 0.11316897 0.11165364 0.11201443 0.10984967 0.10835839 0.10773301\n",
            " 0.10831028 0.11174    0.11167774 0.11183057 0.11216114 0.11261715\n",
            " 0.11315132 0.11372835 0.11432517 0.11492825 0.11553058 0.11612903\n",
            " 0.11672252 0.1173109  0.1178944  0.1184734  0.11904823 0.11961923\n",
            " 0.1201868  0.12075132 0.12131319 0.12187286 0.12243071 0.12298718\n",
            " 0.12354261 0.12409736 0.12465173 0.12520596]\n",
            "27 day output [[0.12576027]]\n",
            "28 day input [0.044546   0.04432952 0.04834636 0.05919423 0.06900782 0.06819002\n",
            " 0.06248948 0.06164762 0.07011425 0.06944077 0.06956103 0.07206254\n",
            " 0.06987372 0.06660253 0.06806975 0.06494287 0.05654841 0.05972339\n",
            " 0.06179194 0.06313891 0.06905592 0.07788334 0.07874925 0.07841251\n",
            " 0.07675286 0.08036079 0.08187613 0.07562237 0.0791341  0.0771377\n",
            " 0.07562237 0.09029465 0.09012628 0.09226699 0.08734817 0.0911365\n",
            " 0.09991581 0.09770295 0.10013229 0.11148527 0.10710764 0.10434155\n",
            " 0.1018641  0.09397474 0.09782321 0.08721587 0.09760673 0.10032471\n",
            " 0.09294047 0.09250752 0.09753458 0.0927721  0.08851473 0.09017438\n",
            " 0.10027661 0.11191822 0.11720986 0.12647023 0.1270475  0.12440168\n",
            " 0.11244738 0.10010824 0.10535177 0.10739627 0.10487072 0.11316897\n",
            " 0.11165364 0.11201443 0.10984967 0.10835839 0.10773301 0.10831028\n",
            " 0.11174    0.11167774 0.11183057 0.11216114 0.11261715 0.11315132\n",
            " 0.11372835 0.11432517 0.11492825 0.11553058 0.11612903 0.11672252\n",
            " 0.1173109  0.1178944  0.1184734  0.11904823 0.11961923 0.1201868\n",
            " 0.12075132 0.12131319 0.12187286 0.12243071 0.12298718 0.12354261\n",
            " 0.12409736 0.12465173 0.12520596 0.12576027]\n",
            "28 day output [[0.1263148]]\n",
            "29 day input [0.04432952 0.04834636 0.05919423 0.06900782 0.06819002 0.06248948\n",
            " 0.06164762 0.07011425 0.06944077 0.06956103 0.07206254 0.06987372\n",
            " 0.06660253 0.06806975 0.06494287 0.05654841 0.05972339 0.06179194\n",
            " 0.06313891 0.06905592 0.07788334 0.07874925 0.07841251 0.07675286\n",
            " 0.08036079 0.08187613 0.07562237 0.0791341  0.0771377  0.07562237\n",
            " 0.09029465 0.09012628 0.09226699 0.08734817 0.0911365  0.09991581\n",
            " 0.09770295 0.10013229 0.11148527 0.10710764 0.10434155 0.1018641\n",
            " 0.09397474 0.09782321 0.08721587 0.09760673 0.10032471 0.09294047\n",
            " 0.09250752 0.09753458 0.0927721  0.08851473 0.09017438 0.10027661\n",
            " 0.11191822 0.11720986 0.12647023 0.1270475  0.12440168 0.11244738\n",
            " 0.10010824 0.10535177 0.10739627 0.10487072 0.11316897 0.11165364\n",
            " 0.11201443 0.10984967 0.10835839 0.10773301 0.10831028 0.11174\n",
            " 0.11167774 0.11183057 0.11216114 0.11261715 0.11315132 0.11372835\n",
            " 0.11432517 0.11492825 0.11553058 0.11612903 0.11672252 0.1173109\n",
            " 0.1178944  0.1184734  0.11904823 0.11961923 0.1201868  0.12075132\n",
            " 0.12131319 0.12187286 0.12243071 0.12298718 0.12354261 0.12409736\n",
            " 0.12465173 0.12520596 0.12576027 0.1263148 ]\n",
            "29 day output [[0.12686975]]\n",
            "[[0.11174000054597855], [0.11167773604393005], [0.11183056980371475], [0.11216114461421967], [0.11261714994907379], [0.11315131932497025], [0.1137283518910408], [0.11432516574859619], [0.1149282455444336], [0.1155305802822113], [0.11612903326749802], [0.11672251671552658], [0.11731089651584625], [0.11789440363645554], [0.11847340315580368], [0.11904823035001755], [0.1196192279458046], [0.12018679827451706], [0.12075132131576538], [0.1213131919503212], [0.12187286466360092], [0.1224307119846344], [0.12298718094825745], [0.12354260683059692], [0.12409736216068268], [0.12465173006057739], [0.12520596385002136], [0.1257602721452713], [0.12631480395793915], [0.12686975300312042]]\n"
          ],
          "name": "stdout"
        }
      ]
    },
    {
      "cell_type": "code",
      "metadata": {
        "id": "LCHgsvZSXE_5"
      },
      "source": [
        "day_new=np.arange(1,101)\n",
        "day_pred=np.arange(101,131)"
      ],
      "execution_count": 33,
      "outputs": []
    },
    {
      "cell_type": "code",
      "metadata": {
        "id": "TaizdyreXE_5"
      },
      "source": [
        "import matplotlib.pyplot as plt"
      ],
      "execution_count": null,
      "outputs": []
    },
    {
      "cell_type": "code",
      "metadata": {
        "colab": {
          "base_uri": "https://localhost:8080/"
        },
        "id": "pfrLjWhpXE_5",
        "outputId": "5657f48d-932e-45f5-9186-eefee757f555"
      },
      "source": [
        "len(df1)"
      ],
      "execution_count": 34,
      "outputs": [
        {
          "output_type": "execute_result",
          "data": {
            "text/plain": [
              "1259"
            ]
          },
          "metadata": {
            "tags": []
          },
          "execution_count": 34
        }
      ]
    },
    {
      "cell_type": "code",
      "metadata": {
        "colab": {
          "base_uri": "https://localhost:8080/",
          "height": 283
        },
        "id": "mddN321qXE_7",
        "outputId": "19dc9676-bf35-4d74-f734-9c04a748d4cd"
      },
      "source": [
        "plt.plot(day_new,scaler.inverse_transform(df1[1159:]))\n",
        "plt.plot(day_pred,scaler.inverse_transform(lst_output))"
      ],
      "execution_count": 36,
      "outputs": [
        {
          "output_type": "execute_result",
          "data": {
            "text/plain": [
              "[<matplotlib.lines.Line2D at 0x7fc9d87549e8>]"
            ]
          },
          "metadata": {
            "tags": []
          },
          "execution_count": 36
        },
        {
          "output_type": "display_data",
          "data": {
            "image/png": "[encoded data removed]",
            "text/plain": [
              "<Figure size 432x288 with 1 Axes>"
            ]
          },
          "metadata": {
            "tags": [],
            "needs_background": "light"
          }
        }
      ]
    },
    {
      "cell_type": "code",
      "metadata": {
        "colab": {
          "base_uri": "https://localhost:8080/",
          "height": 286
        },
        "id": "LwAg4oA2XE_7",
        "outputId": "fff8dfa0-26d1-447d-c273-f1d9c36a1885"
      },
      "source": [
        "df3=df1.tolist()\n",
        "df3.extend(lst_output)\n",
        "plt.plot(df3[1200:])"
      ],
      "execution_count": 37,
      "outputs": [
        {
          "output_type": "execute_result",
          "data": {
            "text/plain": [
              "[<matplotlib.lines.Line2D at 0x7fc90fae2080>]"
            ]
          },
          "metadata": {
            "tags": []
          },
          "execution_count": 37
        },
        {
          "output_type": "display_data",
          "data": {
            "image/png": "[encoded data removed]",
            "text/plain": [
              "<Figure size 432x288 with 1 Axes>"
            ]
          },
          "metadata": {
            "tags": [],
            "needs_background": "light"
          }
        }
      ]
    },
    {
      "cell_type": "code",
      "metadata": {
        "colab": {
          "base_uri": "https://localhost:8080/",
          "height": 283
        },
        "id": "uYoeg3xzXE_8",
        "outputId": "381a7f47-8ff0-4011-9146-61601518574f"
      },
      "source": [
        "df3=scaler.inverse_transform(df3).tolist()\r\n",
        "plt.plot(df3)"
      ],
      "execution_count": 39,
      "outputs": [
        {
          "output_type": "execute_result",
          "data": {
            "text/plain": [
              "[<matplotlib.lines.Line2D at 0x7fc90fa31668>]"
            ]
          },
          "metadata": {
            "tags": []
          },
          "execution_count": 39
        },
        {
          "output_type": "display_data",
          "data": {
            "image/png": "[encoded data removed]",
            "text/plain": [
              "<Figure size 432x288 with 1 Axes>"
            ]
          },
          "metadata": {
            "tags": [],
            "needs_background": "light"
          }
        }
      ]
    },
    {
      "cell_type": "code",
      "metadata": {
        "id": "fY3GfwAHXE_8"
      },
      "source": [
        ""
      ],
      "execution_count": null,
      "outputs": []
    }
  ]
}